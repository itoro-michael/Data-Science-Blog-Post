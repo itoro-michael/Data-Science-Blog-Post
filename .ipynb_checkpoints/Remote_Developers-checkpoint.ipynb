{
 "cells": [
  {
   "cell_type": "markdown",
   "metadata": {},
   "source": [
    "# An Overview of Developers Working Remotely in the Stack Overflow Annual Survey for 2019\n",
    "\n",
    "This analysis has endeavoured to follow the cross-industry process for data mining (CRISP-DM). \n",
    "\n",
    "**BUSINESS UNDERSTANDING**\n",
    "\n",
    "The purpose of this project is to gain clearer insights into the remote working model as it applies to developers in 2019. It involves making the necessary comparisons to determine the diferences between developers working remotely and those who are not. This review could serve as an additional guide to aspiring programmers looking to consider the remote working route.\n",
    "\n",
    "The following business questions are answered in this analysis:\n",
    "\n",
    "1. What is the ranking of countries based on the number of their full-time remote developers?\n",
    "2. What is the nature of the employment of full-time remote developers?\n",
    "3. How does the average annual salary of full-time remote developers compare to the never remote camp?\n",
    "\n",
    "**DATA UNDERSTANDING**\n",
    "\n",
    "The dataset used in this analysis is the 2019 Stack Overflow Annual Survey data, which can be accessed from https://insights.stackoverflow.com/survey. The next cells in this notebook will be dedicated to the exploration of the chosen dataset."
   ]
  },
  {
   "cell_type": "code",
   "execution_count": 1,
   "metadata": {},
   "outputs": [],
   "source": [
    "# imports\n",
    "import numpy as np\n",
    "import pandas as pd\n",
    "import matplotlib.pyplot as plt\n",
    "from IPython.display import display\n",
    "from textwrap import wrap\n",
    "%matplotlib inline"
   ]
  },
  {
   "cell_type": "code",
   "execution_count": 2,
   "metadata": {},
   "outputs": [
    {
     "data": {
      "text/html": [
       "<div>\n",
       "<style scoped>\n",
       "    .dataframe tbody tr th:only-of-type {\n",
       "        vertical-align: middle;\n",
       "    }\n",
       "\n",
       "    .dataframe tbody tr th {\n",
       "        vertical-align: top;\n",
       "    }\n",
       "\n",
       "    .dataframe thead th {\n",
       "        text-align: right;\n",
       "    }\n",
       "</style>\n",
       "<table border=\"1\" class=\"dataframe\">\n",
       "  <thead>\n",
       "    <tr style=\"text-align: right;\">\n",
       "      <th></th>\n",
       "      <th>Respondent</th>\n",
       "      <th>MainBranch</th>\n",
       "      <th>Hobbyist</th>\n",
       "      <th>OpenSourcer</th>\n",
       "      <th>OpenSource</th>\n",
       "      <th>Employment</th>\n",
       "      <th>Country</th>\n",
       "      <th>Student</th>\n",
       "      <th>EdLevel</th>\n",
       "      <th>UndergradMajor</th>\n",
       "      <th>...</th>\n",
       "      <th>WelcomeChange</th>\n",
       "      <th>SONewContent</th>\n",
       "      <th>Age</th>\n",
       "      <th>Gender</th>\n",
       "      <th>Trans</th>\n",
       "      <th>Sexuality</th>\n",
       "      <th>Ethnicity</th>\n",
       "      <th>Dependents</th>\n",
       "      <th>SurveyLength</th>\n",
       "      <th>SurveyEase</th>\n",
       "    </tr>\n",
       "  </thead>\n",
       "  <tbody>\n",
       "    <tr>\n",
       "      <th>0</th>\n",
       "      <td>1</td>\n",
       "      <td>I am a student who is learning to code</td>\n",
       "      <td>Yes</td>\n",
       "      <td>Never</td>\n",
       "      <td>The quality of OSS and closed source software ...</td>\n",
       "      <td>Not employed, and not looking for work</td>\n",
       "      <td>United Kingdom</td>\n",
       "      <td>No</td>\n",
       "      <td>Primary/elementary school</td>\n",
       "      <td>NaN</td>\n",
       "      <td>...</td>\n",
       "      <td>Just as welcome now as I felt last year</td>\n",
       "      <td>Tech articles written by other developers;Indu...</td>\n",
       "      <td>14.0</td>\n",
       "      <td>Man</td>\n",
       "      <td>No</td>\n",
       "      <td>Straight / Heterosexual</td>\n",
       "      <td>NaN</td>\n",
       "      <td>No</td>\n",
       "      <td>Appropriate in length</td>\n",
       "      <td>Neither easy nor difficult</td>\n",
       "    </tr>\n",
       "    <tr>\n",
       "      <th>1</th>\n",
       "      <td>2</td>\n",
       "      <td>I am a student who is learning to code</td>\n",
       "      <td>No</td>\n",
       "      <td>Less than once per year</td>\n",
       "      <td>The quality of OSS and closed source software ...</td>\n",
       "      <td>Not employed, but looking for work</td>\n",
       "      <td>Bosnia and Herzegovina</td>\n",
       "      <td>Yes, full-time</td>\n",
       "      <td>Secondary school (e.g. American high school, G...</td>\n",
       "      <td>NaN</td>\n",
       "      <td>...</td>\n",
       "      <td>Just as welcome now as I felt last year</td>\n",
       "      <td>Tech articles written by other developers;Indu...</td>\n",
       "      <td>19.0</td>\n",
       "      <td>Man</td>\n",
       "      <td>No</td>\n",
       "      <td>Straight / Heterosexual</td>\n",
       "      <td>NaN</td>\n",
       "      <td>No</td>\n",
       "      <td>Appropriate in length</td>\n",
       "      <td>Neither easy nor difficult</td>\n",
       "    </tr>\n",
       "    <tr>\n",
       "      <th>2</th>\n",
       "      <td>3</td>\n",
       "      <td>I am not primarily a developer, but I write co...</td>\n",
       "      <td>Yes</td>\n",
       "      <td>Never</td>\n",
       "      <td>The quality of OSS and closed source software ...</td>\n",
       "      <td>Employed full-time</td>\n",
       "      <td>Thailand</td>\n",
       "      <td>No</td>\n",
       "      <td>Bachelor’s degree (BA, BS, B.Eng., etc.)</td>\n",
       "      <td>Web development or web design</td>\n",
       "      <td>...</td>\n",
       "      <td>Just as welcome now as I felt last year</td>\n",
       "      <td>Tech meetups or events in your area;Courses on...</td>\n",
       "      <td>28.0</td>\n",
       "      <td>Man</td>\n",
       "      <td>No</td>\n",
       "      <td>Straight / Heterosexual</td>\n",
       "      <td>NaN</td>\n",
       "      <td>Yes</td>\n",
       "      <td>Appropriate in length</td>\n",
       "      <td>Neither easy nor difficult</td>\n",
       "    </tr>\n",
       "    <tr>\n",
       "      <th>3</th>\n",
       "      <td>4</td>\n",
       "      <td>I am a developer by profession</td>\n",
       "      <td>No</td>\n",
       "      <td>Never</td>\n",
       "      <td>The quality of OSS and closed source software ...</td>\n",
       "      <td>Employed full-time</td>\n",
       "      <td>United States</td>\n",
       "      <td>No</td>\n",
       "      <td>Bachelor’s degree (BA, BS, B.Eng., etc.)</td>\n",
       "      <td>Computer science, computer engineering, or sof...</td>\n",
       "      <td>...</td>\n",
       "      <td>Just as welcome now as I felt last year</td>\n",
       "      <td>Tech articles written by other developers;Indu...</td>\n",
       "      <td>22.0</td>\n",
       "      <td>Man</td>\n",
       "      <td>No</td>\n",
       "      <td>Straight / Heterosexual</td>\n",
       "      <td>White or of European descent</td>\n",
       "      <td>No</td>\n",
       "      <td>Appropriate in length</td>\n",
       "      <td>Easy</td>\n",
       "    </tr>\n",
       "    <tr>\n",
       "      <th>4</th>\n",
       "      <td>5</td>\n",
       "      <td>I am a developer by profession</td>\n",
       "      <td>Yes</td>\n",
       "      <td>Once a month or more often</td>\n",
       "      <td>OSS is, on average, of HIGHER quality than pro...</td>\n",
       "      <td>Employed full-time</td>\n",
       "      <td>Ukraine</td>\n",
       "      <td>No</td>\n",
       "      <td>Bachelor’s degree (BA, BS, B.Eng., etc.)</td>\n",
       "      <td>Computer science, computer engineering, or sof...</td>\n",
       "      <td>...</td>\n",
       "      <td>Just as welcome now as I felt last year</td>\n",
       "      <td>Tech meetups or events in your area;Courses on...</td>\n",
       "      <td>30.0</td>\n",
       "      <td>Man</td>\n",
       "      <td>No</td>\n",
       "      <td>Straight / Heterosexual</td>\n",
       "      <td>White or of European descent;Multiracial</td>\n",
       "      <td>No</td>\n",
       "      <td>Appropriate in length</td>\n",
       "      <td>Easy</td>\n",
       "    </tr>\n",
       "  </tbody>\n",
       "</table>\n",
       "<p>5 rows × 85 columns</p>\n",
       "</div>"
      ],
      "text/plain": [
       "   Respondent                                         MainBranch Hobbyist  \\\n",
       "0           1             I am a student who is learning to code      Yes   \n",
       "1           2             I am a student who is learning to code       No   \n",
       "2           3  I am not primarily a developer, but I write co...      Yes   \n",
       "3           4                     I am a developer by profession       No   \n",
       "4           5                     I am a developer by profession      Yes   \n",
       "\n",
       "                  OpenSourcer  \\\n",
       "0                       Never   \n",
       "1     Less than once per year   \n",
       "2                       Never   \n",
       "3                       Never   \n",
       "4  Once a month or more often   \n",
       "\n",
       "                                          OpenSource  \\\n",
       "0  The quality of OSS and closed source software ...   \n",
       "1  The quality of OSS and closed source software ...   \n",
       "2  The quality of OSS and closed source software ...   \n",
       "3  The quality of OSS and closed source software ...   \n",
       "4  OSS is, on average, of HIGHER quality than pro...   \n",
       "\n",
       "                               Employment                 Country  \\\n",
       "0  Not employed, and not looking for work          United Kingdom   \n",
       "1      Not employed, but looking for work  Bosnia and Herzegovina   \n",
       "2                      Employed full-time                Thailand   \n",
       "3                      Employed full-time           United States   \n",
       "4                      Employed full-time                 Ukraine   \n",
       "\n",
       "          Student                                            EdLevel  \\\n",
       "0              No                          Primary/elementary school   \n",
       "1  Yes, full-time  Secondary school (e.g. American high school, G...   \n",
       "2              No           Bachelor’s degree (BA, BS, B.Eng., etc.)   \n",
       "3              No           Bachelor’s degree (BA, BS, B.Eng., etc.)   \n",
       "4              No           Bachelor’s degree (BA, BS, B.Eng., etc.)   \n",
       "\n",
       "                                      UndergradMajor  \\\n",
       "0                                                NaN   \n",
       "1                                                NaN   \n",
       "2                      Web development or web design   \n",
       "3  Computer science, computer engineering, or sof...   \n",
       "4  Computer science, computer engineering, or sof...   \n",
       "\n",
       "              ...                                        WelcomeChange  \\\n",
       "0             ...              Just as welcome now as I felt last year   \n",
       "1             ...              Just as welcome now as I felt last year   \n",
       "2             ...              Just as welcome now as I felt last year   \n",
       "3             ...              Just as welcome now as I felt last year   \n",
       "4             ...              Just as welcome now as I felt last year   \n",
       "\n",
       "                                        SONewContent   Age Gender Trans  \\\n",
       "0  Tech articles written by other developers;Indu...  14.0    Man    No   \n",
       "1  Tech articles written by other developers;Indu...  19.0    Man    No   \n",
       "2  Tech meetups or events in your area;Courses on...  28.0    Man    No   \n",
       "3  Tech articles written by other developers;Indu...  22.0    Man    No   \n",
       "4  Tech meetups or events in your area;Courses on...  30.0    Man    No   \n",
       "\n",
       "                 Sexuality                                 Ethnicity  \\\n",
       "0  Straight / Heterosexual                                       NaN   \n",
       "1  Straight / Heterosexual                                       NaN   \n",
       "2  Straight / Heterosexual                                       NaN   \n",
       "3  Straight / Heterosexual              White or of European descent   \n",
       "4  Straight / Heterosexual  White or of European descent;Multiracial   \n",
       "\n",
       "  Dependents           SurveyLength                  SurveyEase  \n",
       "0         No  Appropriate in length  Neither easy nor difficult  \n",
       "1         No  Appropriate in length  Neither easy nor difficult  \n",
       "2        Yes  Appropriate in length  Neither easy nor difficult  \n",
       "3         No  Appropriate in length                        Easy  \n",
       "4         No  Appropriate in length                        Easy  \n",
       "\n",
       "[5 rows x 85 columns]"
      ]
     },
     "execution_count": 2,
     "metadata": {},
     "output_type": "execute_result"
    }
   ],
   "source": [
    "df = pd.read_csv('dev_survey_2019/2019_survey_results_public.csv')\n",
    "\n",
    "# Show some rows and columns present in the dataset.\n",
    "df.head()"
   ]
  },
  {
   "cell_type": "code",
   "execution_count": 3,
   "metadata": {},
   "outputs": [
    {
     "data": {
      "text/html": [
       "<div>\n",
       "<style scoped>\n",
       "    .dataframe tbody tr th:only-of-type {\n",
       "        vertical-align: middle;\n",
       "    }\n",
       "\n",
       "    .dataframe tbody tr th {\n",
       "        vertical-align: top;\n",
       "    }\n",
       "\n",
       "    .dataframe thead th {\n",
       "        text-align: right;\n",
       "    }\n",
       "</style>\n",
       "<table border=\"1\" class=\"dataframe\">\n",
       "  <thead>\n",
       "    <tr style=\"text-align: right;\">\n",
       "      <th></th>\n",
       "      <th>Respondent</th>\n",
       "      <th>CompTotal</th>\n",
       "      <th>ConvertedComp</th>\n",
       "      <th>WorkWeekHrs</th>\n",
       "      <th>CodeRevHrs</th>\n",
       "      <th>Age</th>\n",
       "    </tr>\n",
       "  </thead>\n",
       "  <tbody>\n",
       "    <tr>\n",
       "      <th>count</th>\n",
       "      <td>88883.000000</td>\n",
       "      <td>5.594500e+04</td>\n",
       "      <td>5.582300e+04</td>\n",
       "      <td>64503.000000</td>\n",
       "      <td>49790.000000</td>\n",
       "      <td>79210.000000</td>\n",
       "    </tr>\n",
       "    <tr>\n",
       "      <th>mean</th>\n",
       "      <td>44442.000000</td>\n",
       "      <td>5.519014e+11</td>\n",
       "      <td>1.271107e+05</td>\n",
       "      <td>42.127197</td>\n",
       "      <td>5.084308</td>\n",
       "      <td>30.336699</td>\n",
       "    </tr>\n",
       "    <tr>\n",
       "      <th>std</th>\n",
       "      <td>25658.456325</td>\n",
       "      <td>7.331926e+13</td>\n",
       "      <td>2.841523e+05</td>\n",
       "      <td>37.287610</td>\n",
       "      <td>5.513931</td>\n",
       "      <td>9.178390</td>\n",
       "    </tr>\n",
       "    <tr>\n",
       "      <th>min</th>\n",
       "      <td>1.000000</td>\n",
       "      <td>0.000000e+00</td>\n",
       "      <td>0.000000e+00</td>\n",
       "      <td>1.000000</td>\n",
       "      <td>0.000000</td>\n",
       "      <td>1.000000</td>\n",
       "    </tr>\n",
       "    <tr>\n",
       "      <th>25%</th>\n",
       "      <td>22221.500000</td>\n",
       "      <td>2.000000e+04</td>\n",
       "      <td>2.577750e+04</td>\n",
       "      <td>40.000000</td>\n",
       "      <td>2.000000</td>\n",
       "      <td>24.000000</td>\n",
       "    </tr>\n",
       "    <tr>\n",
       "      <th>50%</th>\n",
       "      <td>44442.000000</td>\n",
       "      <td>6.200000e+04</td>\n",
       "      <td>5.728700e+04</td>\n",
       "      <td>40.000000</td>\n",
       "      <td>4.000000</td>\n",
       "      <td>29.000000</td>\n",
       "    </tr>\n",
       "    <tr>\n",
       "      <th>75%</th>\n",
       "      <td>66662.500000</td>\n",
       "      <td>1.200000e+05</td>\n",
       "      <td>1.000000e+05</td>\n",
       "      <td>44.750000</td>\n",
       "      <td>6.000000</td>\n",
       "      <td>35.000000</td>\n",
       "    </tr>\n",
       "    <tr>\n",
       "      <th>max</th>\n",
       "      <td>88883.000000</td>\n",
       "      <td>1.000000e+16</td>\n",
       "      <td>2.000000e+06</td>\n",
       "      <td>4850.000000</td>\n",
       "      <td>99.000000</td>\n",
       "      <td>99.000000</td>\n",
       "    </tr>\n",
       "  </tbody>\n",
       "</table>\n",
       "</div>"
      ],
      "text/plain": [
       "         Respondent     CompTotal  ConvertedComp   WorkWeekHrs    CodeRevHrs  \\\n",
       "count  88883.000000  5.594500e+04   5.582300e+04  64503.000000  49790.000000   \n",
       "mean   44442.000000  5.519014e+11   1.271107e+05     42.127197      5.084308   \n",
       "std    25658.456325  7.331926e+13   2.841523e+05     37.287610      5.513931   \n",
       "min        1.000000  0.000000e+00   0.000000e+00      1.000000      0.000000   \n",
       "25%    22221.500000  2.000000e+04   2.577750e+04     40.000000      2.000000   \n",
       "50%    44442.000000  6.200000e+04   5.728700e+04     40.000000      4.000000   \n",
       "75%    66662.500000  1.200000e+05   1.000000e+05     44.750000      6.000000   \n",
       "max    88883.000000  1.000000e+16   2.000000e+06   4850.000000     99.000000   \n",
       "\n",
       "                Age  \n",
       "count  79210.000000  \n",
       "mean      30.336699  \n",
       "std        9.178390  \n",
       "min        1.000000  \n",
       "25%       24.000000  \n",
       "50%       29.000000  \n",
       "75%       35.000000  \n",
       "max       99.000000  "
      ]
     },
     "execution_count": 3,
     "metadata": {},
     "output_type": "execute_result"
    }
   ],
   "source": [
    "# Analyse the numerical columns in the dataset\n",
    "df.describe()"
   ]
  },
  {
   "cell_type": "code",
   "execution_count": 4,
   "metadata": {},
   "outputs": [
    {
     "name": "stdout",
     "output_type": "stream",
     "text": [
      "The number of rows: 88883 \n",
      "The number of columns: 85\n"
     ]
    }
   ],
   "source": [
    "# Print the number of rows and columns\n",
    "print(\"The number of rows:\",df.shape[0], \"\\nThe number of columns:\", df.shape[1])"
   ]
  },
  {
   "cell_type": "code",
   "execution_count": 5,
   "metadata": {},
   "outputs": [
    {
     "name": "stdout",
     "output_type": "stream",
     "text": [
      "['Respondent' 'MainBranch' 'Hobbyist' 'OpenSourcer' 'OpenSource'\n",
      " 'Employment' 'Country' 'Student' 'EdLevel' 'UndergradMajor' 'EduOther'\n",
      " 'OrgSize' 'DevType' 'YearsCode' 'Age1stCode' 'YearsCodePro' 'CareerSat'\n",
      " 'JobSat' 'MgrIdiot' 'MgrMoney' 'MgrWant' 'JobSeek' 'LastHireDate'\n",
      " 'LastInt' 'FizzBuzz' 'JobFactors' 'ResumeUpdate' 'CurrencySymbol'\n",
      " 'CurrencyDesc' 'CompTotal' 'CompFreq' 'ConvertedComp' 'WorkWeekHrs'\n",
      " 'WorkPlan' 'WorkChallenge' 'WorkRemote' 'WorkLoc' 'ImpSyn' 'CodeRev'\n",
      " 'CodeRevHrs']\n"
     ]
    }
   ],
   "source": [
    "# List of column names in the dataset\n",
    "print(df.columns.values[:40])"
   ]
  },
  {
   "cell_type": "markdown",
   "metadata": {},
   "source": [
    "Columns directly relevant to analysis are: Employment, Country, YearsCodePro, JobSat, WorkRemote, ConvertedComp, WorkWeekHrs, and Gender."
   ]
  },
  {
   "cell_type": "code",
   "execution_count": 6,
   "metadata": {},
   "outputs": [
    {
     "data": {
      "image/png": "[encoded data removed]",
      "text/plain": [
       "<Figure size 648x432 with 1 Axes>"
      ]
     },
     "metadata": {
      "needs_background": "light"
     },
     "output_type": "display_data"
    }
   ],
   "source": [
    "# Show distribution of nulls in relevant columns\n",
    "null_count_per_col = df[['Employment', 'Country', 'YearsCodePro', 'JobSat', \n",
    "                         'WorkRemote', 'ConvertedComp', 'WorkWeekHrs', 'Gender']].isnull().sum(axis = 0)\n",
    "rotation = 45\n",
    "null_count_per_col = null_count_per_col/df.shape[0]\n",
    "ax = null_count_per_col.plot(kind=\"bar\", title='The relative size of nulls in chosen columns', color='#1F77B4', figsize=(9,6))\n",
    "ax.set_ylabel(\"Per unit\")\n",
    "plt.xticks(rotation=rotation)\n",
    "plt.show()"
   ]
  },
  {
   "cell_type": "markdown",
   "metadata": {},
   "source": [
    "**DATA PREPARATION**\n",
    "\n",
    "This step of the CRISP-DM process involves the cleaning of the dataset as well as the selection of the rows and columns to exclude or retain. No columns will be dropped from the dataset, the size of null values in the columns to be analysed is acceptable. Categorical values will be modified as it's suitable in the cells were they are analysed.\n",
    "\n",
    "**DATA MODELLING**\n",
    "\n",
    "The purpose of this project is to deepen insight into the remote working option for developers in the 2019 Stack Overflow survey. The scope of the project does not involve making predictions on any attribute and so it will not involve model building. In the following cells the analysis of the project data will be made. The business questions answered by the analysis will be indicated alongside."
   ]
  },
  {
   "cell_type": "code",
   "execution_count": 7,
   "metadata": {},
   "outputs": [
    {
     "name": "stdout",
     "output_type": "stream",
     "text": [
      "Number of countries in dataset:  179\n",
      "The top 10 countries represent 61.91 % of the dataset population\n"
     ]
    },
    {
     "data": {
      "image/png": "[encoded data removed]",
      "text/plain": [
       "<Figure size 648x432 with 1 Axes>"
      ]
     },
     "metadata": {
      "needs_background": "light"
     },
     "output_type": "display_data"
    }
   ],
   "source": [
    "# Display the relative size of datapoints grouped by country\n",
    "num_country = 10\n",
    "val_count = df.Country.value_counts() #Provide a pandas series of the counts for each Country\n",
    "cum_val = np.cumsum(val_count.values)\n",
    "cum_percent = round((cum_val[num_country-1]*100/df.shape[0]), 2)\n",
    "num_country_dataset = len(val_count)\n",
    "\n",
    "print(\"Number of countries in dataset: \", num_country_dataset)\n",
    "print(\"The top\", num_country, \"countries represent\",cum_percent,\"% of the dataset population\") \n",
    "\n",
    "val_count = val_count*100/df.shape[0]\n",
    "val_count = val_count.sort_values(ascending=False)\n",
    "val_count = val_count[:num_country]\n",
    "\n",
    "\n",
    "ax = val_count.plot(kind=\"bar\", title='Figure 1: Top 10 Countries Represented in the Dataset', color='#1F77B4', figsize=(9,6));\n",
    "ax.set_ylabel(\"Percentage\")\n",
    "\n",
    "for y, x in enumerate(val_count.values):\n",
    "    plt.annotate(str(round(x,0))+'%', xy=(y, x+0.2), ha=\"center\")\n",
    "plt.xticks(rotation=rotation)\n",
    "plt.show()"
   ]
  },
  {
   "cell_type": "code",
   "execution_count": 8,
   "metadata": {},
   "outputs": [
    {
     "data": {
      "image/png": "[encoded data removed]",
      "text/plain": [
       "<Figure size 648x432 with 1 Axes>"
      ]
     },
     "metadata": {
      "needs_background": "light"
     },
     "output_type": "display_data"
    }
   ],
   "source": [
    "# Show the relative sizes of the WorkRemote column categories\n",
    "val_count = df.WorkRemote.value_counts() #Provide a pandas series\n",
    "\n",
    "# Plot bar chart\n",
    "val_count = val_count*100/df.shape[0]\n",
    "val_count = val_count.sort_values(ascending=False)\n",
    "ax = val_count.plot(kind=\"bar\", color='#1F77B4', title='Figure 2: Categories in the Frequency of Remote Work Column', \n",
    "                    figsize=(9,6));\n",
    "ax.set_ylabel(\"Percentage\")\n",
    "\n",
    "for y, x in enumerate(val_count.values):\n",
    "    plt.annotate(str(round(x,0))+'%', xy=(y, x+0.2), ha=\"center\")\n",
    "\n",
    "labels = val_count.index.values\n",
    "labels = [ '\\n'.join(wrap(lbl, 20)) for lbl in labels ]\n",
    "plt.xticks(np.arange(len(val_count.values)), labels, rotation=rotation)\n",
    "plt.show()"
   ]
  },
  {
   "cell_type": "markdown",
   "metadata": {},
   "source": [
    "**Question 1**: What is the ranking of countries based on the number of their full-time remote developers?"
   ]
  },
  {
   "cell_type": "code",
   "execution_count": 9,
   "metadata": {},
   "outputs": [
    {
     "name": "stdout",
     "output_type": "stream",
     "text": [
      "Number of countries returned: 135 which is 75.4 % of countries in dataset\n"
     ]
    },
    {
     "data": {
      "image/png": "[encoded data removed]",
      "text/plain": [
       "<Figure size 648x432 with 1 Axes>"
      ]
     },
     "metadata": {
      "needs_background": "light"
     },
     "output_type": "display_data"
    }
   ],
   "source": [
    "# Question 1: What is the ranking of countries based on the number of their full-time remote developers?\n",
    "\n",
    "val_count = df.query(\"WorkRemote == 'All or almost all the time (I\\\\'m full-time remote)'\").groupby(['Country']).size()\n",
    "temp_c = round(len(val_count)*100/num_country_dataset,1)\n",
    "print(\"Number of countries returned:\", len(val_count),\"which is\",temp_c,\"% of countries in dataset\")\n",
    "\n",
    "val_count = val_count*100/sum(val_count)\n",
    "val_count = val_count.sort_values(0,ascending=False)\n",
    "val_count = val_count[:num_country]\n",
    "\n",
    "\n",
    "ax = val_count.plot(kind=\"bar\", color='#1F77B4', title='Figure 3: Full-Time Remote Developers Grouped By Country', figsize=(9,6));\n",
    "ax.set_ylabel(\"Percentage\")\n",
    "\n",
    "for y, x in enumerate(val_count.values):\n",
    "    plt.annotate(str(round(x,0))+'%', xy=(y, x+0.2), ha=\"center\")\n",
    "plt.xticks(rotation=rotation)\n",
    "plt.show()"
   ]
  },
  {
   "cell_type": "code",
   "execution_count": 10,
   "metadata": {
    "scrolled": false
   },
   "outputs": [
    {
     "name": "stdout",
     "output_type": "stream",
     "text": [
      "Number of countries returned: 153 which is 85.5 % of countries in dataset\n"
     ]
    },
    {
     "data": {
      "image/png": "[encoded data removed]",
      "text/plain": [
       "<Figure size 648x432 with 1 Axes>"
      ]
     },
     "metadata": {
      "needs_background": "light"
     },
     "output_type": "display_data"
    }
   ],
   "source": [
    "# The distribution of non-remote work grouped by country \n",
    "val_count = df.query(\"WorkRemote == 'Less than once per month / Never'\").groupby(['Country']).size()\n",
    "temp_v = round(len(val_count)*100/num_country_dataset,1)\n",
    "print(\"Number of countries returned:\", len(val_count),\"which is\",temp_v,\"% of countries in dataset\")\n",
    "\n",
    "val_count = val_count/sum(val_count)\n",
    "val_count = val_count.sort_values(0)\n",
    "val_count = val_count[-num_country:]\n",
    "\n",
    "\n",
    "val_count.plot(kind=\"barh\", color='#1F77B4', title='Non-Remote Work Grouped By Country', figsize=(9,6));\n",
    "\n",
    "\n",
    "for y, x in enumerate(val_count.values):\n",
    "    plt.annotate(str(round(x,2)), xy=(x, y), va='center')"
   ]
  },
  {
   "cell_type": "code",
   "execution_count": 11,
   "metadata": {},
   "outputs": [
    {
     "data": {
      "text/html": [
       "<div>\n",
       "<style scoped>\n",
       "    .dataframe tbody tr th:only-of-type {\n",
       "        vertical-align: middle;\n",
       "    }\n",
       "\n",
       "    .dataframe tbody tr th {\n",
       "        vertical-align: top;\n",
       "    }\n",
       "\n",
       "    .dataframe thead th {\n",
       "        text-align: right;\n",
       "    }\n",
       "</style>\n",
       "<table border=\"1\" class=\"dataframe\">\n",
       "  <thead>\n",
       "    <tr style=\"text-align: right;\">\n",
       "      <th></th>\n",
       "      <th>Relative Size</th>\n",
       "    </tr>\n",
       "    <tr>\n",
       "      <th>Employment</th>\n",
       "      <th></th>\n",
       "    </tr>\n",
       "  </thead>\n",
       "  <tbody>\n",
       "    <tr>\n",
       "      <th>Employed full-time</th>\n",
       "      <td>58.0</td>\n",
       "    </tr>\n",
       "    <tr>\n",
       "      <th>Employed part-time</th>\n",
       "      <td>4.0</td>\n",
       "    </tr>\n",
       "    <tr>\n",
       "      <th>Independent contractor, freelancer, or self-employed</th>\n",
       "      <td>38.0</td>\n",
       "    </tr>\n",
       "  </tbody>\n",
       "</table>\n",
       "</div>"
      ],
      "text/plain": [
       "                                                    Relative Size\n",
       "Employment                                                       \n",
       "Employed full-time                                           58.0\n",
       "Employed part-time                                            4.0\n",
       "Independent contractor, freelancer, or self-emp...           38.0"
      ]
     },
     "execution_count": 11,
     "metadata": {},
     "output_type": "execute_result"
    }
   ],
   "source": [
    "#The employment status of the full-time remote workers\n",
    "size_col = \"Relative Size\"\n",
    "def group_by(search_column, search_string, group_by, size_col):\n",
    "    \"\"\" The group_by function returns a dataframe containing relative size of datapoints,\n",
    "        matching search_string and grouped by the group_by variable.\n",
    "\n",
    "    Args:\n",
    "        search_column (str): column name to query.\n",
    "        search_string (str): value to search for, in search_column.\n",
    "        group_by (str): column name to group by.\n",
    "        size_col (str): The column name in returned dataframe\n",
    "\n",
    "    Returns:\n",
    "        DataFrame: The query result.\n",
    "    \"\"\"\n",
    "    val_count = df.query(\"\"+search_column+\" == '\"+search_string+\"'\").groupby([group_by]).size()\n",
    "    val_count = val_count*100/sum(val_count)\n",
    "    val_count = pd.DataFrame(val_count).rename(columns={0:size_col})\n",
    "    val_count = round(val_count,0) \n",
    "    return val_count\n",
    "val_count = group_by(search_column='WorkRemote', \n",
    "                     search_string=\"All or almost all the time (I\\\\'m full-time remote)\", \n",
    "                     group_by='Employment', \n",
    "                     size_col=size_col)\n",
    "val_count"
   ]
  },
  {
   "cell_type": "markdown",
   "metadata": {},
   "source": [
    "**Question 2**: What is the nature of the employment of full-time remote developers?"
   ]
  },
  {
   "cell_type": "code",
   "execution_count": 12,
   "metadata": {},
   "outputs": [
    {
     "data": {
      "image/png": "[encoded data removed]",
      "text/plain": [
       "<Figure size 864x864 with 1 Axes>"
      ]
     },
     "metadata": {},
     "output_type": "display_data"
    }
   ],
   "source": [
    "# Question 2: What is the nature of the employment of full-time remote developers?\n",
    "\n",
    "colors =  ['#1FB4A7', '#1F77B4', '#1F2DB4']\n",
    "plt.figure(figsize=(12,12))\n",
    "ax1 = plt.subplot(121, aspect='equal')\n",
    "_, texts, autotexts = plt.pie(val_count, labels = val_count.index.values,autopct='%1.1f%%',\n",
    "                          startangle=90,colors=colors)\n",
    "for autotext in autotexts:\n",
    "    autotext.set_color('white')\n",
    "    autotext.set_fontsize(10)\n",
    "    autotext.set_fontweight('bold')\n",
    "    \n",
    "labels = [ '\\n'.join(wrap(text.get_text(), 24)) for text in texts]\n",
    "for text, lbl in zip(texts,labels):\n",
    "    text.set_text(lbl)"
   ]
  },
  {
   "cell_type": "code",
   "execution_count": 13,
   "metadata": {},
   "outputs": [
    {
     "data": {
      "text/html": [
       "<div>\n",
       "<style scoped>\n",
       "    .dataframe tbody tr th:only-of-type {\n",
       "        vertical-align: middle;\n",
       "    }\n",
       "\n",
       "    .dataframe tbody tr th {\n",
       "        vertical-align: top;\n",
       "    }\n",
       "\n",
       "    .dataframe thead th {\n",
       "        text-align: right;\n",
       "    }\n",
       "</style>\n",
       "<table border=\"1\" class=\"dataframe\">\n",
       "  <thead>\n",
       "    <tr style=\"text-align: right;\">\n",
       "      <th></th>\n",
       "      <th>Relative Size</th>\n",
       "    </tr>\n",
       "    <tr>\n",
       "      <th>Employment</th>\n",
       "      <th></th>\n",
       "    </tr>\n",
       "  </thead>\n",
       "  <tbody>\n",
       "    <tr>\n",
       "      <th>Employed full-time</th>\n",
       "      <td>94.0</td>\n",
       "    </tr>\n",
       "    <tr>\n",
       "      <th>Employed part-time</th>\n",
       "      <td>4.0</td>\n",
       "    </tr>\n",
       "    <tr>\n",
       "      <th>Independent contractor, freelancer, or self-employed</th>\n",
       "      <td>3.0</td>\n",
       "    </tr>\n",
       "  </tbody>\n",
       "</table>\n",
       "</div>"
      ],
      "text/plain": [
       "                                                    Relative Size\n",
       "Employment                                                       \n",
       "Employed full-time                                           94.0\n",
       "Employed part-time                                            4.0\n",
       "Independent contractor, freelancer, or self-emp...            3.0"
      ]
     },
     "execution_count": 13,
     "metadata": {},
     "output_type": "execute_result"
    }
   ],
   "source": [
    "#The employment status of the non full-time remote workrs\n",
    "val_count = group_by(search_column='WorkRemote', \n",
    "                     search_string=\"Less than once per month / Never\", \n",
    "                     group_by='Employment', \n",
    "                     size_col=size_col)\n",
    "val_count"
   ]
  },
  {
   "cell_type": "code",
   "execution_count": 14,
   "metadata": {},
   "outputs": [
    {
     "data": {
      "text/html": [
       "<div>\n",
       "<style scoped>\n",
       "    .dataframe tbody tr th:only-of-type {\n",
       "        vertical-align: middle;\n",
       "    }\n",
       "\n",
       "    .dataframe tbody tr th {\n",
       "        vertical-align: top;\n",
       "    }\n",
       "\n",
       "    .dataframe thead th {\n",
       "        text-align: right;\n",
       "    }\n",
       "</style>\n",
       "<table border=\"1\" class=\"dataframe\">\n",
       "  <thead>\n",
       "    <tr style=\"text-align: right;\">\n",
       "      <th></th>\n",
       "      <th>Gender</th>\n",
       "    </tr>\n",
       "  </thead>\n",
       "  <tbody>\n",
       "    <tr>\n",
       "      <th>Man</th>\n",
       "      <td>77919</td>\n",
       "    </tr>\n",
       "    <tr>\n",
       "      <th>Woman</th>\n",
       "      <td>6344</td>\n",
       "    </tr>\n",
       "    <tr>\n",
       "      <th>Non-binary, genderqueer, or gender non-conforming</th>\n",
       "      <td>597</td>\n",
       "    </tr>\n",
       "    <tr>\n",
       "      <th>Man;Non-binary, genderqueer, or gender non-conforming</th>\n",
       "      <td>181</td>\n",
       "    </tr>\n",
       "    <tr>\n",
       "      <th>Woman;Non-binary, genderqueer, or gender non-conforming</th>\n",
       "      <td>163</td>\n",
       "    </tr>\n",
       "    <tr>\n",
       "      <th>Woman;Man</th>\n",
       "      <td>132</td>\n",
       "    </tr>\n",
       "    <tr>\n",
       "      <th>Woman;Man;Non-binary, genderqueer, or gender non-conforming</th>\n",
       "      <td>70</td>\n",
       "    </tr>\n",
       "  </tbody>\n",
       "</table>\n",
       "</div>"
      ],
      "text/plain": [
       "                                                    Gender\n",
       "Man                                                  77919\n",
       "Woman                                                 6344\n",
       "Non-binary, genderqueer, or gender non-conforming      597\n",
       "Man;Non-binary, genderqueer, or gender non-conf...     181\n",
       "Woman;Non-binary, genderqueer, or gender non-co...     163\n",
       "Woman;Man                                              132\n",
       "Woman;Man;Non-binary, genderqueer, or gender no...      70"
      ]
     },
     "execution_count": 14,
     "metadata": {},
     "output_type": "execute_result"
    }
   ],
   "source": [
    "# The categorical values in the Gender column\n",
    "pd.DataFrame(df.Gender.value_counts())"
   ]
  },
  {
   "cell_type": "code",
   "execution_count": 15,
   "metadata": {},
   "outputs": [
    {
     "data": {
      "text/html": [
       "<div>\n",
       "<style scoped>\n",
       "    .dataframe tbody tr th:only-of-type {\n",
       "        vertical-align: middle;\n",
       "    }\n",
       "\n",
       "    .dataframe tbody tr th {\n",
       "        vertical-align: top;\n",
       "    }\n",
       "\n",
       "    .dataframe thead th {\n",
       "        text-align: right;\n",
       "    }\n",
       "</style>\n",
       "<table border=\"1\" class=\"dataframe\">\n",
       "  <thead>\n",
       "    <tr style=\"text-align: right;\">\n",
       "      <th></th>\n",
       "      <th>Relative Size</th>\n",
       "    </tr>\n",
       "    <tr>\n",
       "      <th>Gender</th>\n",
       "      <th></th>\n",
       "    </tr>\n",
       "  </thead>\n",
       "  <tbody>\n",
       "    <tr>\n",
       "      <th>Man</th>\n",
       "      <td>93.0</td>\n",
       "    </tr>\n",
       "    <tr>\n",
       "      <th>Woman</th>\n",
       "      <td>7.0</td>\n",
       "    </tr>\n",
       "  </tbody>\n",
       "</table>\n",
       "</div>"
      ],
      "text/plain": [
       "        Relative Size\n",
       "Gender               \n",
       "Man              93.0\n",
       "Woman             7.0"
      ]
     },
     "execution_count": 15,
     "metadata": {},
     "output_type": "execute_result"
    }
   ],
   "source": [
    "# Comparison of males and females in fulltime remote jobs\n",
    "def mult_group_by(search_string, size_col):\n",
    "    \"\"\" The mult_group_by function returns a dataframe containing relative size of datapoints\n",
    "        matching search_string and grouped by the Gender column.\n",
    "\n",
    "    Args:\n",
    "        search_string (str): value to search for, in search columns.\n",
    "        size_col (str): The column name in returned dataframe\n",
    "\n",
    "    Returns:\n",
    "        DataFrame: The query result.\n",
    "\n",
    "    \"\"\"\n",
    "    val_count = df.query(\"WorkRemote == '\"+search_string+\"' \\\n",
    "                      and (Gender == 'Man' or Gender == 'Woman')\").groupby(['Gender']).size()\n",
    "    val_count = val_count*100/sum(val_count)\n",
    "    val_count = pd.DataFrame(val_count).rename(columns={0:size_col})\n",
    "    val_count = round(val_count,0) \n",
    "    return val_count\n",
    "mult_group_by(search_string=\"All or almost all the time (I\\\\'m full-time remote)\", size_col=size_col)"
   ]
  },
  {
   "cell_type": "code",
   "execution_count": 16,
   "metadata": {},
   "outputs": [
    {
     "data": {
      "text/html": [
       "<div>\n",
       "<style scoped>\n",
       "    .dataframe tbody tr th:only-of-type {\n",
       "        vertical-align: middle;\n",
       "    }\n",
       "\n",
       "    .dataframe tbody tr th {\n",
       "        vertical-align: top;\n",
       "    }\n",
       "\n",
       "    .dataframe thead th {\n",
       "        text-align: right;\n",
       "    }\n",
       "</style>\n",
       "<table border=\"1\" class=\"dataframe\">\n",
       "  <thead>\n",
       "    <tr style=\"text-align: right;\">\n",
       "      <th></th>\n",
       "      <th>Relative Size</th>\n",
       "    </tr>\n",
       "    <tr>\n",
       "      <th>Gender</th>\n",
       "      <th></th>\n",
       "    </tr>\n",
       "  </thead>\n",
       "  <tbody>\n",
       "    <tr>\n",
       "      <th>Man</th>\n",
       "      <td>93.0</td>\n",
       "    </tr>\n",
       "    <tr>\n",
       "      <th>Woman</th>\n",
       "      <td>7.0</td>\n",
       "    </tr>\n",
       "  </tbody>\n",
       "</table>\n",
       "</div>"
      ],
      "text/plain": [
       "        Relative Size\n",
       "Gender               \n",
       "Man              93.0\n",
       "Woman             7.0"
      ]
     },
     "execution_count": 16,
     "metadata": {},
     "output_type": "execute_result"
    }
   ],
   "source": [
    "# Comparison of males and females in non remote jobs\n",
    "mult_group_by(search_string=\"Less than once per month / Never\", size_col=size_col)"
   ]
  },
  {
   "cell_type": "code",
   "execution_count": 17,
   "metadata": {},
   "outputs": [
    {
     "data": {
      "text/html": [
       "<div>\n",
       "<style scoped>\n",
       "    .dataframe tbody tr th:only-of-type {\n",
       "        vertical-align: middle;\n",
       "    }\n",
       "\n",
       "    .dataframe tbody tr th {\n",
       "        vertical-align: top;\n",
       "    }\n",
       "\n",
       "    .dataframe thead th {\n",
       "        text-align: right;\n",
       "    }\n",
       "</style>\n",
       "<table border=\"1\" class=\"dataframe\">\n",
       "  <thead>\n",
       "    <tr style=\"text-align: right;\">\n",
       "      <th></th>\n",
       "      <th>ConvertedComp</th>\n",
       "    </tr>\n",
       "  </thead>\n",
       "  <tbody>\n",
       "    <tr>\n",
       "      <th>max</th>\n",
       "      <td>2000000.0</td>\n",
       "    </tr>\n",
       "    <tr>\n",
       "      <th>mean</th>\n",
       "      <td>139081.9</td>\n",
       "    </tr>\n",
       "    <tr>\n",
       "      <th>median</th>\n",
       "      <td>71037.5</td>\n",
       "    </tr>\n",
       "  </tbody>\n",
       "</table>\n",
       "</div>"
      ],
      "text/plain": [
       "        ConvertedComp\n",
       "max         2000000.0\n",
       "mean         139081.9\n",
       "median        71037.5"
      ]
     },
     "execution_count": 17,
     "metadata": {},
     "output_type": "execute_result"
    }
   ],
   "source": [
    "# The annual salary for full-time remote jobs for whole dataset\n",
    "def describe(search_string):\n",
    "    \"\"\" The describe function returns a dataframe containing the max, mean, and median values for annual salary.\n",
    "\n",
    "    Args:\n",
    "        search_string (str): value to search for, in search column.\n",
    "\n",
    "    Returns:\n",
    "        DataFrame: The query result.\n",
    "    \"\"\"\n",
    "    val_count_rm = df.query(\"WorkRemote == '\"+search_string+\"'\")['ConvertedComp']\\\n",
    "                     .agg(['max', 'mean', 'median'])\n",
    "    val_count_rm = round(pd.DataFrame(val_count_rm),2) \n",
    "    return val_count_rm\n",
    "val_count_rm = describe(search_string=\"All or almost all the time (I\\\\'m full-time remote)\")\n",
    "val_count_rm"
   ]
  },
  {
   "cell_type": "code",
   "execution_count": 18,
   "metadata": {},
   "outputs": [
    {
     "data": {
      "text/html": [
       "<div>\n",
       "<style scoped>\n",
       "    .dataframe tbody tr th:only-of-type {\n",
       "        vertical-align: middle;\n",
       "    }\n",
       "\n",
       "    .dataframe tbody tr th {\n",
       "        vertical-align: top;\n",
       "    }\n",
       "\n",
       "    .dataframe thead th {\n",
       "        text-align: right;\n",
       "    }\n",
       "</style>\n",
       "<table border=\"1\" class=\"dataframe\">\n",
       "  <thead>\n",
       "    <tr style=\"text-align: right;\">\n",
       "      <th></th>\n",
       "      <th>ConvertedComp</th>\n",
       "    </tr>\n",
       "  </thead>\n",
       "  <tbody>\n",
       "    <tr>\n",
       "      <th>max</th>\n",
       "      <td>2000000.00</td>\n",
       "    </tr>\n",
       "    <tr>\n",
       "      <th>mean</th>\n",
       "      <td>111321.63</td>\n",
       "    </tr>\n",
       "    <tr>\n",
       "      <th>median</th>\n",
       "      <td>47436.00</td>\n",
       "    </tr>\n",
       "  </tbody>\n",
       "</table>\n",
       "</div>"
      ],
      "text/plain": [
       "        ConvertedComp\n",
       "max        2000000.00\n",
       "mean        111321.63\n",
       "median       47436.00"
      ]
     },
     "execution_count": 18,
     "metadata": {},
     "output_type": "execute_result"
    }
   ],
   "source": [
    "# The annual salary for non-remote jobs for whole dataset\n",
    "val_count_nrm = describe(search_string=\"Less than once per month / Never\")\n",
    "val_count_nrm"
   ]
  },
  {
   "cell_type": "code",
   "execution_count": 19,
   "metadata": {},
   "outputs": [
    {
     "name": "stdout",
     "output_type": "stream",
     "text": [
      "The mean salary for full-time remote work is 24.9 % greater than salary for non-remote jobs\n"
     ]
    }
   ],
   "source": [
    "# Mean salary comparison\n",
    "diff = val_count_rm.values[1,0] - val_count_nrm.values[1,0]\n",
    "diff_rate = diff*100/val_count_nrm.values[1,0]\n",
    "print(\"The mean salary for full-time remote work is\", round(diff_rate,1),\\\n",
    "      \"% greater than salary for non-remote jobs\")"
   ]
  },
  {
   "cell_type": "markdown",
   "metadata": {},
   "source": [
    "**Question 3**: How does the average annual salary of full-time remote developers compare to the \n",
    "             never remote camp?"
   ]
  },
  {
   "cell_type": "code",
   "execution_count": 20,
   "metadata": {},
   "outputs": [
    {
     "data": {
      "image/png": "[encoded data removed]",
      "text/plain": [
       "<Figure size 432x432 with 1 Axes>"
      ]
     },
     "metadata": {
      "needs_background": "light"
     },
     "output_type": "display_data"
    }
   ],
   "source": [
    "# Question 3: How does the average annual salary of full-time remote developers compare to the \n",
    "#             never remote camp?\n",
    "dict={'ConvertedComp':[139081.9, 111321.63]}  # mean values got from above cells\n",
    "comp_df = pd.DataFrame(dict,index=['Full-time remote developers', 'Non-remote developers'])\n",
    "\n",
    "# Compensation between developer groups \n",
    "comp_df = comp_df.sort_values('ConvertedComp',ascending=False)\n",
    "\n",
    "ax = comp_df.plot(kind=\"bar\", color='#1F77B4', title='Figure 5: Average Wage Comparison', \n",
    "                  figsize=(6,6), legend=False);\n",
    "ax.set_ylabel(\"Average annual compensation (usd)\")\n",
    "\n",
    "for y, x in enumerate(comp_df.values[:,0]):\n",
    "    plt.annotate('${:,.0f}'.format(x), xy=(y, x+1000), ha=\"center\")\n",
    "plt.xticks(rotation=0)\n",
    "plt.show()"
   ]
  },
  {
   "cell_type": "code",
   "execution_count": 21,
   "metadata": {},
   "outputs": [
    {
     "data": {
      "text/html": [
       "<div>\n",
       "<style scoped>\n",
       "    .dataframe tbody tr th:only-of-type {\n",
       "        vertical-align: middle;\n",
       "    }\n",
       "\n",
       "    .dataframe tbody tr th {\n",
       "        vertical-align: top;\n",
       "    }\n",
       "\n",
       "    .dataframe thead th {\n",
       "        text-align: right;\n",
       "    }\n",
       "</style>\n",
       "<table border=\"1\" class=\"dataframe\">\n",
       "  <thead>\n",
       "    <tr style=\"text-align: right;\">\n",
       "      <th></th>\n",
       "      <th>JobSat</th>\n",
       "    </tr>\n",
       "  </thead>\n",
       "  <tbody>\n",
       "    <tr>\n",
       "      <th>Slightly satisfied</th>\n",
       "      <td>24207</td>\n",
       "    </tr>\n",
       "    <tr>\n",
       "      <th>Very satisfied</th>\n",
       "      <td>22452</td>\n",
       "    </tr>\n",
       "    <tr>\n",
       "      <th>Slightly dissatisfied</th>\n",
       "      <td>10752</td>\n",
       "    </tr>\n",
       "    <tr>\n",
       "      <th>Neither satisfied nor dissatisfied</th>\n",
       "      <td>8720</td>\n",
       "    </tr>\n",
       "    <tr>\n",
       "      <th>Very dissatisfied</th>\n",
       "      <td>4857</td>\n",
       "    </tr>\n",
       "  </tbody>\n",
       "</table>\n",
       "</div>"
      ],
      "text/plain": [
       "                                    JobSat\n",
       "Slightly satisfied                   24207\n",
       "Very satisfied                       22452\n",
       "Slightly dissatisfied                10752\n",
       "Neither satisfied nor dissatisfied    8720\n",
       "Very dissatisfied                     4857"
      ]
     },
     "execution_count": 21,
     "metadata": {},
     "output_type": "execute_result"
    }
   ],
   "source": [
    "# Display the different values in JobSat column\n",
    "pd.DataFrame(df.JobSat.value_counts())"
   ]
  },
  {
   "cell_type": "code",
   "execution_count": 22,
   "metadata": {},
   "outputs": [
    {
     "data": {
      "text/html": [
       "<div>\n",
       "<style scoped>\n",
       "    .dataframe tbody tr th:only-of-type {\n",
       "        vertical-align: middle;\n",
       "    }\n",
       "\n",
       "    .dataframe tbody tr th {\n",
       "        vertical-align: top;\n",
       "    }\n",
       "\n",
       "    .dataframe thead th {\n",
       "        text-align: right;\n",
       "    }\n",
       "</style>\n",
       "<table border=\"1\" class=\"dataframe\">\n",
       "  <thead>\n",
       "    <tr style=\"text-align: right;\">\n",
       "      <th></th>\n",
       "      <th>JobSat</th>\n",
       "    </tr>\n",
       "    <tr>\n",
       "      <th>WorkRemote</th>\n",
       "      <th></th>\n",
       "    </tr>\n",
       "  </thead>\n",
       "  <tbody>\n",
       "    <tr>\n",
       "      <th>All or almost all the time (I'm full-time remote)</th>\n",
       "      <td>3.8</td>\n",
       "    </tr>\n",
       "    <tr>\n",
       "      <th>Less than once per month / Never</th>\n",
       "      <td>3.6</td>\n",
       "    </tr>\n",
       "  </tbody>\n",
       "</table>\n",
       "</div>"
      ],
      "text/plain": [
       "                                                   JobSat\n",
       "WorkRemote                                               \n",
       "All or almost all the time (I'm full-time remote)     3.8\n",
       "Less than once per month / Never                      3.6"
      ]
     },
     "execution_count": 22,
     "metadata": {},
     "output_type": "execute_result"
    }
   ],
   "source": [
    "# Convert categorical values to interval values from 1 to 5.\n",
    "# The rationale is that the categorical values have some ordering.\n",
    "val_dict = {\"Very dissatisfied\":1, \"Slightly dissatisfied\":2, \"Neither satisfied nor dissatisfied\":3,\n",
    "            \"Slightly satisfied\":4, \"Very satisfied\":5}\n",
    "df['JobSat'] = df['JobSat'].apply(lambda x: val_dict[x] if pd.notnull(x) else x)\n",
    "\n",
    "# make the column numeric\n",
    "df['JobSat'] = df['JobSat'].apply(pd.to_numeric)\n",
    "\n",
    "# Comparison of job satisfaction between the two groups\n",
    "val_count = df.query(\"WorkRemote == 'All or almost all the time (I\\\\'m full-time remote)' or\\\n",
    "                      WorkRemote == 'Less than once per month / Never'\").groupby(['WorkRemote'])\\\n",
    "                     .mean()['JobSat']\n",
    "round(pd.DataFrame(val_count),1)\n",
    "# The job satisfaction of full-time remote developers, on average is slightly more than that of the \n",
    "# never remote group."
   ]
  },
  {
   "cell_type": "code",
   "execution_count": 23,
   "metadata": {},
   "outputs": [
    {
     "data": {
      "text/html": [
       "<div>\n",
       "<style scoped>\n",
       "    .dataframe tbody tr th:only-of-type {\n",
       "        vertical-align: middle;\n",
       "    }\n",
       "\n",
       "    .dataframe tbody tr th {\n",
       "        vertical-align: top;\n",
       "    }\n",
       "\n",
       "    .dataframe thead th {\n",
       "        text-align: right;\n",
       "    }\n",
       "</style>\n",
       "<table border=\"1\" class=\"dataframe\">\n",
       "  <thead>\n",
       "    <tr style=\"text-align: right;\">\n",
       "      <th></th>\n",
       "      <th>WorkWeekHrs</th>\n",
       "    </tr>\n",
       "    <tr>\n",
       "      <th>WorkRemote</th>\n",
       "      <th></th>\n",
       "    </tr>\n",
       "  </thead>\n",
       "  <tbody>\n",
       "    <tr>\n",
       "      <th>All or almost all the time (I'm full-time remote)</th>\n",
       "      <td>41.3</td>\n",
       "    </tr>\n",
       "    <tr>\n",
       "      <th>Less than once per month / Never</th>\n",
       "      <td>42.2</td>\n",
       "    </tr>\n",
       "  </tbody>\n",
       "</table>\n",
       "</div>"
      ],
      "text/plain": [
       "                                                   WorkWeekHrs\n",
       "WorkRemote                                                    \n",
       "All or almost all the time (I'm full-time remote)         41.3\n",
       "Less than once per month / Never                          42.2"
      ]
     },
     "execution_count": 23,
     "metadata": {},
     "output_type": "execute_result"
    }
   ],
   "source": [
    "# The comparison of work week hrs between the two groups\n",
    "val_count = df.query(\"WorkRemote == 'All or almost all the time (I\\\\'m full-time remote)' or\\\n",
    "                      WorkRemote == 'Less than once per month / Never'\").groupby(['WorkRemote'])\\\n",
    "                     .mean()['WorkWeekHrs']\n",
    "round(pd.DataFrame(val_count),1)"
   ]
  },
  {
   "cell_type": "code",
   "execution_count": 24,
   "metadata": {},
   "outputs": [
    {
     "data": {
      "text/html": [
       "<div>\n",
       "<style scoped>\n",
       "    .dataframe tbody tr th:only-of-type {\n",
       "        vertical-align: middle;\n",
       "    }\n",
       "\n",
       "    .dataframe tbody tr th {\n",
       "        vertical-align: top;\n",
       "    }\n",
       "\n",
       "    .dataframe thead th {\n",
       "        text-align: right;\n",
       "    }\n",
       "</style>\n",
       "<table border=\"1\" class=\"dataframe\">\n",
       "  <thead>\n",
       "    <tr style=\"text-align: right;\">\n",
       "      <th></th>\n",
       "      <th>Age</th>\n",
       "    </tr>\n",
       "    <tr>\n",
       "      <th>WorkRemote</th>\n",
       "      <th></th>\n",
       "    </tr>\n",
       "  </thead>\n",
       "  <tbody>\n",
       "    <tr>\n",
       "      <th>All or almost all the time (I'm full-time remote)</th>\n",
       "      <td>34.3</td>\n",
       "    </tr>\n",
       "    <tr>\n",
       "      <th>Less than once per month / Never</th>\n",
       "      <td>30.2</td>\n",
       "    </tr>\n",
       "  </tbody>\n",
       "</table>\n",
       "</div>"
      ],
      "text/plain": [
       "                                                    Age\n",
       "WorkRemote                                             \n",
       "All or almost all the time (I'm full-time remote)  34.3\n",
       "Less than once per month / Never                   30.2"
      ]
     },
     "execution_count": 24,
     "metadata": {},
     "output_type": "execute_result"
    }
   ],
   "source": [
    "# What is the average age in the two groups?\n",
    "val_count = df.query(\"WorkRemote == 'All or almost all the time (I\\\\'m full-time remote)' or\\\n",
    "                      WorkRemote == 'Less than once per month / Never'\").groupby(['WorkRemote'])\\\n",
    "                     .mean()['Age']\n",
    "round(pd.DataFrame(val_count),1) "
   ]
  },
  {
   "cell_type": "code",
   "execution_count": 25,
   "metadata": {},
   "outputs": [
    {
     "data": {
      "text/html": [
       "<div>\n",
       "<style scoped>\n",
       "    .dataframe tbody tr th:only-of-type {\n",
       "        vertical-align: middle;\n",
       "    }\n",
       "\n",
       "    .dataframe tbody tr th {\n",
       "        vertical-align: top;\n",
       "    }\n",
       "\n",
       "    .dataframe thead th {\n",
       "        text-align: right;\n",
       "    }\n",
       "</style>\n",
       "<table border=\"1\" class=\"dataframe\">\n",
       "  <thead>\n",
       "    <tr style=\"text-align: right;\">\n",
       "      <th></th>\n",
       "      <th>YearsCodePro</th>\n",
       "    </tr>\n",
       "    <tr>\n",
       "      <th>WorkRemote</th>\n",
       "      <th></th>\n",
       "    </tr>\n",
       "  </thead>\n",
       "  <tbody>\n",
       "    <tr>\n",
       "      <th>All or almost all the time (I'm full-time remote)</th>\n",
       "      <td>10.9</td>\n",
       "    </tr>\n",
       "    <tr>\n",
       "      <th>Less than once per month / Never</th>\n",
       "      <td>6.9</td>\n",
       "    </tr>\n",
       "  </tbody>\n",
       "</table>\n",
       "</div>"
      ],
      "text/plain": [
       "                                                   YearsCodePro\n",
       "WorkRemote                                                     \n",
       "All or almost all the time (I'm full-time remote)          10.9\n",
       "Less than once per month / Never                            6.9"
      ]
     },
     "execution_count": 25,
     "metadata": {},
     "output_type": "execute_result"
    }
   ],
   "source": [
    "# What is the mean coding experience for both the full-time remote and \n",
    "#             non-remote developers?\n",
    "# Remove non-numeric values in the YearsCodePro column\n",
    "# 0.5 and 55 - are arbitrarily chossen, however they will have same effect on both groups being \n",
    "# compared.\n",
    "\n",
    "val_dict = {\"Less than 1 year\":0.5, \"More than 50 years\":55}\n",
    "val_list = [\"Less than 1 year\", \"More than 50 years\"]\n",
    "df['YearsCodePro'] = df['YearsCodePro']\\\n",
    "                     .apply(lambda x: val_dict[x] if pd.notnull(x) and x in val_list else x)\n",
    "\n",
    "# make the column numeric\n",
    "df['YearsCodePro'] = df['YearsCodePro'].apply(pd.to_numeric)\n",
    "\n",
    "#Comparison of mean coding experience between the two groups\n",
    "val_count = df.query(\"WorkRemote == 'All or almost all the time (I\\\\'m full-time remote)' or\\\n",
    "                      WorkRemote == 'Less than once per month / Never'\").groupby(['WorkRemote'])\\\n",
    "                     .mean()['YearsCodePro']\n",
    "round(pd.DataFrame(val_count),1) "
   ]
  },
  {
   "cell_type": "markdown",
   "metadata": {},
   "source": [
    "**EVALUATION**\n",
    "\n",
    "There is a significant difference in the average salary of both the remote and the non-remote group, which could be explained by the disparity in the years of coding experience for the corresponding groups. The average coding experience for the remote group at 10.9 years is significantly higher than that of the non-remote set at 6.9 years. Same is true for the average age, but the reverse is the case for weekly work hours.\n",
    "\n",
    "The results above show that the full-time remote developers are mainly the more experienced professionals, who are older, with higher incomes on average. They also have slightly higher job satisfaction ratings, as compared to those who do never work remotely.\n",
    "The results apply generally to the dataset without considering individual countries."
   ]
  },
  {
   "cell_type": "code",
   "execution_count": null,
   "metadata": {},
   "outputs": [],
   "source": []
  }
 ],
 "metadata": {
  "kernelspec": {
   "display_name": "Python 3",
   "language": "python",
   "name": "python3"
  },
  "language_info": {
   "codemirror_mode": {
    "name": "ipython",
    "version": 3
   },
   "file_extension": ".py",
   "mimetype": "text/x-python",
   "name": "python",
   "nbconvert_exporter": "python",
   "pygments_lexer": "ipython3",
   "version": "3.7.0"
  }
 },
 "nbformat": 4,
 "nbformat_minor": 2
}
